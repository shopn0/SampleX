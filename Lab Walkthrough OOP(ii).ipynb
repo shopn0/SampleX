{
  "nbformat": 4,
  "nbformat_minor": 0,
  "metadata": {
    "colab": {
      "provenance": [],
      "toc_visible": true,
      "authorship_tag": "ABX9TyM1pB/0aEeySPhZOklU02/N",
      "include_colab_link": true
    },
    "kernelspec": {
      "name": "python3",
      "display_name": "Python 3"
    },
    "language_info": {
      "name": "python"
    }
  },
  "cells": [
    {
      "cell_type": "markdown",
      "metadata": {
        "id": "view-in-github",
        "colab_type": "text"
      },
      "source": [
        "<a href=\"https://colab.research.google.com/github/shopn0/SampleX/blob/main/Lab%20Walkthrough%20OOP(ii).ipynb\" target=\"_parent\"><img src=\"https://colab.research.google.com/assets/colab-badge.svg\" alt=\"Open In Colab\"/></a>"
      ]
    },
    {
      "cell_type": "markdown",
      "source": [
        "# **LAB 2**\n",
        "30-01-2024 (week 2)\n"
      ],
      "metadata": {
        "id": "9kPFMhM_RVrt"
      }
    },
    {
      "cell_type": "markdown",
      "source": [
        "**Basics of number and string:**"
      ],
      "metadata": {
        "id": "0JvyEXN8WqEf"
      }
    },
    {
      "cell_type": "code",
      "execution_count": null,
      "metadata": {
        "id": "6BzY6M1wLyuz"
      },
      "outputs": [],
      "source": [
        "#Basic output\n",
        "print(\"Good Morning.\\nIt is OOPII Lab 2.\")\n",
        "\n",
        "#Basic input\n",
        "val= input(\"Enter your value: \") #user input\n",
        "print(val)\n",
        "type(val) #python declares variables as STRING by default\n",
        "\n",
        "#Printing data type\n",
        "a=90\n",
        "b=2.93\n",
        "c=\"Tuesday\"\n",
        "print(type(a))\n",
        "print(type(b))\n",
        "print(type(c))\n",
        "\n",
        "#String locations\n",
        "str1= \"Hello python. \"\n",
        "str2= \"How are you?\"\n",
        "print(str1[0:2]) #string slicing\n",
        "print(str1*2) #string multiply\n",
        "print(str1+str2) #string concatenation\n",
        "\n",
        "\n",
        "\n"
      ]
    },
    {
      "cell_type": "markdown",
      "source": [
        "**List**"
      ],
      "metadata": {
        "id": "gg_iVUN7W7VP"
      }
    },
    {
      "cell_type": "code",
      "source": [
        "list1= [1, \"python\", 69.5]\n",
        "print(type(list1))\n",
        "print(list1) #printing the whole list\n",
        "print(list1[1]) #printing an element of the list\n",
        "print(list1*2) #printing *x times\n",
        "print(list1 + list1) #concatenation of lists"
      ],
      "metadata": {
        "colab": {
          "base_uri": "https://localhost:8080/"
        },
        "id": "tP2HpSy0W-W-",
        "outputId": "62fb4383-d480-40e7-f01c-509795486a58"
      },
      "execution_count": null,
      "outputs": [
        {
          "output_type": "stream",
          "name": "stdout",
          "text": [
            "<class 'list'>\n",
            "[1, 'python', 69.5]\n",
            "python\n",
            "[1, 'python', 69.5, 1, 'python', 69.5]\n",
            "[1, 'python', 69.5, 1, 'python', 69.5]\n"
          ]
        }
      ]
    },
    {
      "cell_type": "markdown",
      "source": [
        "**Tuple**"
      ],
      "metadata": {
        "id": "ba3nRsumYC7N"
      }
    },
    {
      "cell_type": "code",
      "source": [
        "tup= (0, \"mamba\", 69.5) #FACT: Python chooses tuple by default (without any parenthesis)\n",
        "print(type(tup))\n",
        "print(tup) #printing the whole tuple\n",
        "print(tup[1]) #printing an element of the tuple\n",
        "print(tup*2) #printing *x times\n",
        "print(tup + tup) #concatenation"
      ],
      "metadata": {
        "id": "9V4wsq5NYzn-"
      },
      "execution_count": null,
      "outputs": []
    },
    {
      "cell_type": "markdown",
      "source": [
        "**Dictionary Data Type**"
      ],
      "metadata": {
        "id": "k_wRzKEYaA0g"
      }
    },
    {
      "cell_type": "code",
      "source": [
        "dic= {6:\"Shopno\", 'value':5.9, 4:\"Alan Wake\"}\n",
        "\n",
        "print(type(dic))\n",
        "print(dic)\n",
        "#Printig dictionary elements\n",
        "print(\"1st dictoinary item is: \",dic[6])\n",
        "print(\"2nd item is: \",dic['value'])\n",
        "#Accessing dictionary KEYS and VALUES\n",
        "print(dic.keys())\n",
        "print(dic.values())\n",
        "print(dic.items()) # (Keys and their Values)\n",
        "print(dic.get('value')) #getting a value through key\n",
        "print(dic.get('level', \"Not found.\")) #if KEY not available then print: Not Found\n",
        "\n",
        "\n"
      ],
      "metadata": {
        "id": "7NMc41luaGje",
        "colab": {
          "base_uri": "https://localhost:8080/"
        },
        "outputId": "65597c21-7173-4e04-f477-cf5b453c3b7b"
      },
      "execution_count": 9,
      "outputs": [
        {
          "output_type": "stream",
          "name": "stdout",
          "text": [
            "<class 'dict'>\n",
            "{6: 'Shopno', 'value': 5.9, 4: 'Alan Wake'}\n",
            "1st dictoinary item is:  Shopno\n",
            "2nd item is:  5.9\n",
            "dict_keys([6, 'value', 4])\n",
            "dict_values(['Shopno', 5.9, 'Alan Wake'])\n",
            "dict_items([(6, 'Shopno'), ('value', 5.9), (4, 'Alan Wake')])\n",
            "5.9\n",
            "Not found.\n"
          ]
        }
      ]
    },
    {
      "cell_type": "markdown",
      "source": [
        "**Set Data Type** {}"
      ],
      "metadata": {
        "id": "Ho2yDYmScdZ3"
      }
    },
    {
      "cell_type": "code",
      "source": [
        "set1= set()\n",
        "\n",
        "set2 = {\"Name\", \"ID\", \"2024\"}\n",
        "print(type(set2))\n",
        "print(set2) #Printig the set2\n",
        "\n",
        "set1.add(\"ID\")\n",
        "set1.add(69)\n",
        "print(\"Set1 after adding elements: \",set1)\n",
        "set2.remove(\"Name\")\n",
        "print(\"Set2 after removing elements: \",set2)\n",
        "\n",
        "#intersection between sets\n",
        "intersection = set1.intersection(set2)\n",
        "print(\"Common elements between set 1 and 2: \", intersection)\n",
        "\n",
        "#difference\n",
        "diff = set2.difference(set1)\n",
        "print(\"Set 2 - Set 1 = \", diff)\n",
        "\n",
        "#Union\n",
        "union = set1 | set2     #alt: set1.union(set2)\n",
        "print(\"Union of two sets: \", union)"
      ],
      "metadata": {
        "colab": {
          "base_uri": "https://localhost:8080/"
        },
        "id": "ZNsPoqOwcf3e",
        "outputId": "0713a086-ea11-4218-9381-5cf77f9cdf42"
      },
      "execution_count": 14,
      "outputs": [
        {
          "output_type": "stream",
          "name": "stdout",
          "text": [
            "<class 'set'>\n",
            "{'ID', '2024', 'Name'}\n",
            "Set1 after adding elements:  {'ID', 69}\n",
            "Set2 after removing elements:  {'ID', '2024'}\n",
            "Common elements between set 1 and 2:  {'ID'}\n",
            "Set 2 - Set 1 =  {'2024'}\n",
            "Union of two sets:  {'ID', '2024', 69}\n"
          ]
        }
      ]
    },
    {
      "cell_type": "markdown",
      "source": [
        "**Python Keywords**"
      ],
      "metadata": {
        "id": "KcW7HlTwerCH"
      }
    },
    {
      "cell_type": "code",
      "source": [
        "import keyword\n",
        "print(\"The set of keywords.\")\n",
        "print(keyword.kwlist)\n",
        "\n",
        "help(\"keywords\")"
      ],
      "metadata": {
        "colab": {
          "base_uri": "https://localhost:8080/"
        },
        "id": "TUMQfbZoeuk_",
        "outputId": "9bfc50d0-a065-4720-c6ae-aacc2990ee3c"
      },
      "execution_count": null,
      "outputs": [
        {
          "output_type": "stream",
          "name": "stdout",
          "text": [
            "The set of keywords.\n",
            "['False', 'None', 'True', 'and', 'as', 'assert', 'async', 'await', 'break', 'class', 'continue', 'def', 'del', 'elif', 'else', 'except', 'finally', 'for', 'from', 'global', 'if', 'import', 'in', 'is', 'lambda', 'nonlocal', 'not', 'or', 'pass', 'raise', 'return', 'try', 'while', 'with', 'yield']\n",
            "\n",
            "Here is a list of the Python keywords.  Enter any keyword to get more help.\n",
            "\n",
            "False               class               from                or\n",
            "None                continue            global              pass\n",
            "True                def                 if                  raise\n",
            "and                 del                 import              return\n",
            "as                  elif                in                  try\n",
            "assert              else                is                  while\n",
            "async               except              lambda              with\n",
            "await               finally             nonlocal            yield\n",
            "break               for                 not                 \n",
            "\n"
          ]
        }
      ]
    },
    {
      "cell_type": "markdown",
      "source": [
        "**Evaluation-1**\n"
      ],
      "metadata": {
        "id": "H30wfNJs0Nn_"
      }
    },
    {
      "cell_type": "code",
      "source": [
        "#Loading.."
      ],
      "metadata": {
        "id": "iuzLxDnu0MLP"
      },
      "execution_count": null,
      "outputs": []
    },
    {
      "cell_type": "markdown",
      "source": [
        "**Numeric Literals**"
      ],
      "metadata": {
        "id": "62qO0u654trX"
      }
    },
    {
      "cell_type": "code",
      "source": [
        "x = 0b10100 #Binary literals\n",
        "y = 100\n",
        "z = 0o213\n",
        "u = 0x12d #Hexadecimal literal\n",
        "\n",
        "#Float literal\n",
        "float_1= 100.5\n",
        "float_2= 1.5e2\n",
        "\n",
        "#Complex literal\n",
        "a= 5+3.14j\n",
        "\n",
        "print(\"x:\",x,\"y:\",y,\"z:\",z,\"u:\",u)\n",
        "print(\"float_1:\",float_1,\"float_2:\",float_2)\n",
        "print(a, \"Imaginary part:\",a.imag, \"Real part:\", a.real)"
      ],
      "metadata": {
        "colab": {
          "base_uri": "https://localhost:8080/"
        },
        "id": "7lkE53ws4vTR",
        "outputId": "22436cb4-22af-485f-d271-e6768d81150b"
      },
      "execution_count": null,
      "outputs": [
        {
          "output_type": "stream",
          "name": "stdout",
          "text": [
            "x: 20 y: 100 z: 139 u: 301\n",
            "float_1: 100.5 float_2: 150.0\n",
            "(5+3.14j) Imaginary part: 3.14 Real part: 5.0\n"
          ]
        }
      ]
    },
    {
      "cell_type": "markdown",
      "source": [
        "**String Literals**"
      ],
      "metadata": {
        "id": "3lzpNUCC7iSX"
      }
    },
    {
      "cell_type": "code",
      "source": [
        "str1= '''This\n",
        "gap\n",
        "remains\n",
        "'''\n",
        "print(str1)\n",
        "\n",
        "text1= \"Hello\\\n",
        " Together\"\n",
        "print(text1)"
      ],
      "metadata": {
        "colab": {
          "base_uri": "https://localhost:8080/"
        },
        "id": "_W2RN0uw7svH",
        "outputId": "a0b041c0-5146-47d2-e916-1b87c7fd181d"
      },
      "execution_count": null,
      "outputs": [
        {
          "output_type": "stream",
          "name": "stdout",
          "text": [
            "This\n",
            "gap\n",
            "remains\n",
            "\n",
            "Hello Together\n"
          ]
        }
      ]
    },
    {
      "cell_type": "markdown",
      "source": [
        "**Comparison operators**"
      ],
      "metadata": {
        "id": "YidrNyq28b-H"
      }
    },
    {
      "cell_type": "code",
      "source": [
        "a=int(input(\"Enter value of a= \"))\n",
        "b=int(input(\"Enter value of b= \"))\n",
        "\n",
        "print(\"Equal? : \", a==b)\n",
        "print(\"Not Equal? : \", a!=b)\n",
        "print(\"Greater than or equal? :\",a>=b)\n",
        "print(\"Less than i=or equal? :\",a<=b)\n",
        "print(\"a Greater? : \", a>b)\n",
        "print(\"is a Less than b? : \",a<b)\n"
      ],
      "metadata": {
        "id": "wPO2tEpC8hIw"
      },
      "execution_count": null,
      "outputs": []
    },
    {
      "cell_type": "markdown",
      "source": [
        "**Arithmetic Operators**\n"
      ],
      "metadata": {
        "id": "McfQRTYY-MxH"
      }
    },
    {
      "cell_type": "code",
      "source": [
        "a=int(input(\"Enter value of a= \"))\n",
        "b=int(input(\"Enter value of b= \"))\n",
        "\n",
        "print(\"Addition : \",a+b)\n",
        "print(\"Reminder : \",a%b)\n",
        "print(\"Exponent of two numbers : \",a**b)\n",
        "print(\"Floor division of two numbers : \",a//b)"
      ],
      "metadata": {
        "colab": {
          "base_uri": "https://localhost:8080/"
        },
        "id": "LoEpFWb8-VR2",
        "outputId": "7461fe6f-4e37-442e-b29c-8a491df21d3e"
      },
      "execution_count": null,
      "outputs": [
        {
          "output_type": "stream",
          "name": "stdout",
          "text": [
            "Enter value of a= 32\n",
            "Enter value of b= 6\n",
            "Addition :  38\n",
            "Reminder :  2\n",
            "Exponent of two numbers :  1073741824\n",
            "Floor division of two numbers :  5\n"
          ]
        }
      ]
    },
    {
      "cell_type": "markdown",
      "source": [
        "**Assignment Operators**"
      ],
      "metadata": {
        "id": "Wr_8PZO6_kpH"
      }
    },
    {
      "cell_type": "code",
      "source": [
        "a=int(input(\"Enter value of a= \"))\n",
        "b=int(input(\"Enter value of b= \"))\n",
        "\n",
        "print(\"a=b:\",a==b)\n",
        "print(\"a+=b:\",a+b)\n",
        "print(\"a-=b:\",a-b)\n",
        "print(\"a*=b:\",a*b)\n",
        "print(\"a%/b:\",a%b)\n",
        "print(\"a**=b:\",a**b)\n",
        "print(\"a//b:\",a//b)"
      ],
      "metadata": {
        "colab": {
          "base_uri": "https://localhost:8080/"
        },
        "id": "EHMqrvEH_ptp",
        "outputId": "4eb5f047-d2c2-465f-c539-72970296099d"
      },
      "execution_count": null,
      "outputs": [
        {
          "output_type": "stream",
          "name": "stdout",
          "text": [
            "Enter value of a= 32\n",
            "Enter value of b= 6\n",
            "a=b: False\n",
            "a+=b: 38\n",
            "a-=b: 26\n",
            "a*=b: 192\n",
            "a%/b: 2\n",
            "a**=b: 1073741824\n",
            "a//b: 5\n"
          ]
        }
      ]
    },
    {
      "cell_type": "markdown",
      "source": [
        "# **LAB 3**"
      ],
      "metadata": {
        "id": "P313rsWturSw"
      }
    }
  ]
}